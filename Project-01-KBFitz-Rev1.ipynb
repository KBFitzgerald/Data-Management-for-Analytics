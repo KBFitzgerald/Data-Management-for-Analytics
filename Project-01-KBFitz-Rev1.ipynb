{
 "cells": [
  {
   "cell_type": "markdown",
   "metadata": {},
   "source": [
    "### Problem 01 -- Word Counts\n",
    "\n",
    "#### Part A\n",
    "\n",
    "How many times are each of the following characters mentioned by name in the text of Little Women?\n",
    "    • Jo, Beth, Meg, Amy"
   ]
  },
  {
   "cell_type": "code",
   "execution_count": 1,
   "metadata": {
    "collapsed": false
   },
   "outputs": [
    {
     "name": "stdout",
     "output_type": "stream",
     "text": [
      "--2016-09-25 03:26:21--  https://raw.githubusercontent.com/gwsb-istm-6212-fall-2016/syllabus-and-schedule/master/projects/project-01/women.txt\n",
      "Resolving raw.githubusercontent.com (raw.githubusercontent.com)... 151.101.20.133\n",
      "Connecting to raw.githubusercontent.com (raw.githubusercontent.com)|151.101.20.133|:443... connected.\n",
      "HTTP request sent, awaiting response... 200 OK\n",
      "Length: 1053440 (1.0M) [text/plain]\n",
      "Saving to: ‘women.txt’\n",
      "\n",
      "women.txt           100%[=====================>]   1.00M  --.-KB/s   in 0.05s  \n",
      "\n",
      "2016-09-25 03:26:21 (22.2 MB/s) - ‘women.txt’ saved [1053440/1053440]\n",
      "\n"
     ]
    }
   ],
   "source": [
    "# First we get the text of Little Women.\n",
    "\n",
    "!wget https://raw.githubusercontent.com/gwsb-istm-6212-fall-2016/syllabus-and-schedule/master/projects/project-01/women.txt"
   ]
  },
  {
   "cell_type": "code",
   "execution_count": 2,
   "metadata": {
    "collapsed": false
   },
   "outputs": [
    {
     "name": "stdout",
     "output_type": "stream",
     "text": [
      "   1355 Jo\r\n",
      "    163 John\r\n",
      "      6 Joanna\r\n",
      "      4 Josephine\r\n",
      "      3 Jove\r\n",
      "      3 Josy\r\n",
      "      2 Johnson\r\n",
      "      1 Jouvin\r\n",
      "      1 Josyphine\r\n",
      "      1 Joneses\r\n",
      "      1 Jones\r\n",
      "      1 Joian\r\n",
      "      1 Johnsonianly\r\n",
      "      1 Johnsonian\r\n"
     ]
    }
   ],
   "source": [
    "\"\"\" For each name we read through the text, \n",
    "    keeping only the lines that have at least one occurrence of the name,\n",
    "    split it into one word per line, sort the lines, \n",
    "    collapse lines counting unique words then sort again \n",
    "    and display only those that match the name.\n",
    "    Here we count occurrences of 'Jo'. \"\"\"\n",
    "\n",
    "!cat women.txt | grep 'Jo' | grep -oE '\\w{{2,}}' | sort | uniq -c | sort -rn | grep 'Jo'"
   ]
  },
  {
   "cell_type": "code",
   "execution_count": 3,
   "metadata": {
    "collapsed": false
   },
   "outputs": [
    {
     "name": "stdout",
     "output_type": "stream",
     "text": [
      "    459 Beth\n",
      "      5 Bethy\n",
      "      1 Beths\n",
      "    683 Meg\n",
      "      1 Megs\n",
      "      1 Meggy\n",
      "    645 Amy\n"
     ]
    }
   ],
   "source": [
    "#   And here are the counts for 'Beth', 'Meg' and 'Amy'.\n",
    "\n",
    "!cat women.txt | grep 'Beth' | grep -oE '\\w{{2,}}' | sort | uniq -c | sort -rn | grep 'Beth'\n",
    "!cat women.txt | grep 'Meg' | grep -oE '\\w{{2,}}' | sort | uniq -c | sort -rn | grep 'Meg'\n",
    "!cat women.txt | grep 'Amy' | grep -oE '\\w{{2,}}' | sort | uniq -c | sort -rn | grep 'Amy'"
   ]
  },
  {
   "cell_type": "markdown",
   "metadata": {},
   "source": [
    "So, in Little Women:\n",
    "    Jo is mentioned by name 1355 times,\n",
    "    Beth is mentioned by name 459 times,\n",
    "    Meg is mentioned by name 683 times and\n",
    "    Amy is mentioned by name 645 times."
   ]
  },
  {
   "cell_type": "markdown",
   "metadata": {},
   "source": [
    "\n",
    "\n",
    "### Problem 01 -- Word Counts\n",
    "\n",
    "#### Part B\n",
    "\n",
    "How many times do each of the characters Juliet and Romeo have speaking lines in Romeo and Juliet?"
   ]
  },
  {
   "cell_type": "code",
   "execution_count": 4,
   "metadata": {
    "collapsed": false
   },
   "outputs": [
    {
     "name": "stdout",
     "output_type": "stream",
     "text": [
      "--2016-09-25 03:26:56--  https://raw.githubusercontent.com/gwsb-istm-6212-fall-2016/syllabus-and-schedule/master/projects/project-01/romeo.txt\n",
      "Resolving raw.githubusercontent.com (raw.githubusercontent.com)... 151.101.20.133\n",
      "Connecting to raw.githubusercontent.com (raw.githubusercontent.com)|151.101.20.133|:443... connected.\n",
      "HTTP request sent, awaiting response... 200 OK\n",
      "Length: 178983 (175K) [text/plain]\n",
      "Saving to: ‘romeo.txt’\n",
      "\n",
      "romeo.txt           100%[=====================>] 174.79K  --.-KB/s   in 0.02s  \n",
      "\n",
      "2016-09-25 03:26:56 (7.78 MB/s) - ‘romeo.txt’ saved [178983/178983]\n",
      "\n"
     ]
    }
   ],
   "source": [
    "# First we get the text of Romeo & Juliet\n",
    "\n",
    "!wget https://raw.githubusercontent.com/gwsb-istm-6212-fall-2016/syllabus-and-schedule/master/projects/project-01/romeo.txt"
   ]
  },
  {
   "cell_type": "code",
   "execution_count": null,
   "metadata": {
    "collapsed": true
   },
   "outputs": [],
   "source": [
    "\"\"\" We shall read through the text once for Romeo and once for Juliet\n",
    "    and count the lines that contain 'Rom.' and those that contain 'Jul.'.\n",
    "    That is because all speaking lines (no matter how long) begin with \n",
    "    'Rom.' for Romeo and 'Jul.' for Juliet. Even the first line of Romeo's \n",
    "    famous soliloquy (Rom.  To be or not to be...) begins with 'Rom.'. \n",
    "    So each instance of 'Rom.' denotes a speaking part for Romeo and each\n",
    "    instance of 'Jul.' denotes a speaking part for Juliet.\n",
    "    \n",
    "    As such, the number of lines that include 'Rom.' is also the number of times\n",
    "    that Romeo has a speaking part in the play.\n",
    "\"\"\""
   ]
  },
  {
   "cell_type": "code",
   "execution_count": 5,
   "metadata": {
    "collapsed": false
   },
   "outputs": [
    {
     "name": "stdout",
     "output_type": "stream",
     "text": [
      "    163 Rom\n",
      "    159 Romeo\n",
      "     53 and\n",
      "     49 to\n",
      "     39 the\n",
      "    117 Jul\n",
      "     69 Juliet\n",
      "     36 and\n",
      "     28 thou\n",
      "     27 is\n"
     ]
    }
   ],
   "source": [
    "# Using a shell pipeline similar to the one deployed above, we count occurrences of 'Rom.' and 'Jul.'\n",
    "\n",
    "# I have yet to figure out how to get Python/Unix shell to print the '.' in 'Rom.' or 'Jul.'\n",
    "# I may have to declare the string 'Rom.' as literal or raw, but I'm not sure.\n",
    "# In any event, it doesn't matter because whether or not we print 'Rom' or 'Rom.' \n",
    "# doesn't change the number of times Romeo or Juliet have speaking lines.\n",
    "\n",
    "!cat romeo.txt | grep 'Rom.' | grep -oE '\\w{{2,}}' | sort | uniq -c | sort -rn | head -5\n",
    "!cat romeo.txt | grep 'Jul.' | grep -oE '\\w{{2,}}' | sort | uniq -c | sort -rn | head -5"
   ]
  },
  {
   "cell_type": "markdown",
   "metadata": {},
   "source": [
    "So in Romeo & Juliet, \n",
    "    Romeo has speaking lines 163 times and\n",
    "    Juliet has speaking lines 117 times."
   ]
  },
  {
   "cell_type": "markdown",
   "metadata": {},
   "source": [
    "\n",
    "\n",
    "### Problem 02 -- Capital Bikeshare\n",
    "\n",
    "#### Part A\n",
    "\n",
    "Which 10 Capital Bikeshare stations were the most popular departing stations in Q1 2016? Which 10 were\n",
    "the most popular destination stations in Q1 2016?"
   ]
  },
  {
   "cell_type": "code",
   "execution_count": null,
   "metadata": {
    "collapsed": true
   },
   "outputs": [],
   "source": [
    "\"\"\" The tools in csvkit are perfect for this task. \n",
    "\n",
    "First we get data for Q1 2016 from Capital Bikeshare.\n",
    "Then we slice & dice a few times with csvkit tools to determine:\n",
    "    the top ten departing stations,\n",
    "    the top ten destination stations \n",
    "    and the top ten bikes departing from and arriving at \n",
    "    the top stations for departures and arrivals.\n",
    "\n",
    "\"\"\""
   ]
  },
  {
   "cell_type": "code",
   "execution_count": 6,
   "metadata": {
    "collapsed": false
   },
   "outputs": [
    {
     "name": "stdout",
     "output_type": "stream",
     "text": [
      "--2016-09-25 03:27:36--  https://s3.amazonaws.com/capitalbikeshare-data/2016-Q1-cabi-trip-history-data.zip\n",
      "Resolving s3.amazonaws.com (s3.amazonaws.com)... 52.216.1.163\n",
      "Connecting to s3.amazonaws.com (s3.amazonaws.com)|52.216.1.163|:443... connected.\n",
      "HTTP request sent, awaiting response... 200 OK\n",
      "Length: 11048826 (11M) [application/zip]\n",
      "Saving to: ‘2016-Q1-cabi-trip-history-data.zip’\n",
      "\n",
      "2016-Q1-cabi-trip-h 100%[=====================>]  10.54M  27.7MB/s   in 0.4s   \n",
      "\n",
      "2016-09-25 03:27:37 (27.7 MB/s) - ‘2016-Q1-cabi-trip-history-data.zip’ saved [11048826/11048826]\n",
      "\n"
     ]
    }
   ],
   "source": [
    "# First we get the data.\n",
    "\n",
    "!wget https://s3.amazonaws.com/capitalbikeshare-data/2016-Q1-cabi-trip-history-data.zip"
   ]
  },
  {
   "cell_type": "code",
   "execution_count": 7,
   "metadata": {
    "collapsed": false
   },
   "outputs": [
    {
     "name": "stdout",
     "output_type": "stream",
     "text": [
      "Archive:  2016-Q1-cabi-trip-history-data.zip\n",
      "  inflating: 2016-Q1-Trips-History-Data.csv  \n"
     ]
    }
   ],
   "source": [
    "# Unzip it, call it q1.csv and see the variable names.\n",
    "\n",
    "!unzip 2016-Q1-cabi-trip-history-data.zip"
   ]
  },
  {
   "cell_type": "code",
   "execution_count": 8,
   "metadata": {
    "collapsed": true
   },
   "outputs": [],
   "source": [
    "!mv 2016-Q1-Trips-History-Data.csv q1.csv"
   ]
  },
  {
   "cell_type": "code",
   "execution_count": 9,
   "metadata": {
    "collapsed": false
   },
   "outputs": [
    {
     "name": "stdout",
     "output_type": "stream",
     "text": [
      "  1: Duration (ms)\r\n",
      "  2: Start date\r\n",
      "  3: End date\r\n",
      "  4: Start station number\r\n",
      "  5: Start station\r\n",
      "  6: End station number\r\n",
      "  7: End station\r\n",
      "  8: Bike number\r\n",
      "  9: Member Type\r\n"
     ]
    }
   ],
   "source": [
    "# Let's see what variables (data columns) we've got.\n",
    "\n",
    "!csvcut -n q1.csv"
   ]
  },
  {
   "cell_type": "code",
   "execution_count": 10,
   "metadata": {
    "collapsed": false
   },
   "outputs": [
    {
     "name": "stdout",
     "output_type": "stream",
     "text": [
      "|------------------+------------------|\n",
      "|  Start date      | End date         |\n",
      "|------------------+------------------|\n",
      "|  3/31/2016 23:59 | 4/1/2016 0:04    |\n",
      "|  3/31/2016 23:59 | 4/1/2016 0:08    |\n",
      "|  3/31/2016 23:59 | 4/1/2016 0:08    |\n",
      "|  3/31/2016 23:57 | 4/1/2016 0:09    |\n",
      "|  3/31/2016 23:57 | 3/31/2016 23:59  |\n",
      "|  3/31/2016 23:57 | 4/1/2016 0:13    |\n",
      "|  3/31/2016 23:57 | 4/1/2016 0:06    |\n",
      "|  3/31/2016 23:56 | 4/1/2016 0:00    |\n",
      "|  3/31/2016 23:55 | 4/1/2016 0:01    |\n",
      "|  3/31/2016 23:55 | 3/31/2016 23:59  |\n",
      "|  3/31/2016 23:55 | 4/1/2016 0:03    |\n",
      "|  3/31/2016 23:54 | 4/1/2016 0:01    |\n",
      "|  3/31/2016 23:54 | 4/1/2016 0:22    |\n",
      "|  3/31/2016 23:54 | 4/1/2016 0:23    |\n",
      "|------------------+------------------|\n",
      "|----------------+----------------|\n",
      "|  1/1/2016 0:28 | 1/1/2016 0:34  |\n",
      "|----------------+----------------|\n",
      "|  1/1/2016 0:28 | 1/1/2016 0:35  |\n",
      "|  1/1/2016 0:27 | 1/1/2016 0:32  |\n",
      "|  1/1/2016 0:27 | 1/1/2016 0:34  |\n",
      "|  1/1/2016 0:26 | 1/1/2016 0:40  |\n",
      "|  1/1/2016 0:26 | 1/1/2016 0:31  |\n",
      "|  1/1/2016 0:20 | 1/1/2016 0:33  |\n",
      "|  1/1/2016 0:18 | 1/1/2016 0:36  |\n",
      "|  1/1/2016 0:16 | 1/1/2016 0:30  |\n",
      "|  1/1/2016 0:16 | 1/1/2016 0:30  |\n",
      "|  1/1/2016 0:16 | 1/1/2016 0:29  |\n",
      "|  1/1/2016 0:15 | 1/1/2016 0:19  |\n",
      "|  1/1/2016 0:13 | 1/1/2016 0:25  |\n",
      "|  1/1/2016 0:10 | 1/1/2016 0:17  |\n",
      "|  1/1/2016 0:06 | 1/1/2016 0:09  |\n",
      "|----------------+----------------|\n",
      "|---------------------------------+---------------------------+--------------|\n",
      "|  Start station                  | End station               | Bike number  |\n",
      "|---------------------------------+---------------------------+--------------|\n",
      "|  11th & S St NW                 | 1st & Rhode Island Ave NW | W00022       |\n",
      "|  New Hampshire Ave & 24th St NW | 18th St & Wyoming Ave NW  | W01294       |\n",
      "|  14th & V St NW                 | 18th & M St NW            | W01416       |\n",
      "|  34th St & Wisconsin Ave NW     | 17th & Corcoran St NW     | W01090       |\n",
      "|---------------------------------+---------------------------+--------------|\n"
     ]
    }
   ],
   "source": [
    "# Check earliest and latest trips to see that the data span all of Q1 2016.\n",
    "# Since we're not sorting here we're assuming Capital Bikeshare keeps it's data tidy.\n",
    "\n",
    "!csvcut -c2,3 q1.csv | head -15 | csvlook\n",
    "!csvcut -c2,3 q1.csv | tail -15 | csvlook\n",
    "\n",
    "!csvcut -c5,7,8 q1.csv | head -5 | csvlook"
   ]
  },
  {
   "cell_type": "code",
   "execution_count": 11,
   "metadata": {
    "collapsed": false
   },
   "outputs": [
    {
     "name": "stdout",
     "output_type": "stream",
     "text": [
      "sort: write failed: standard output: Broken pipe\r\n",
      "sort: write error\r\n",
      "|--------------------------------------------------------------+--------|\r\n",
      "|    13120 Columbus Circle / Union Station                     | 31623  |\r\n",
      "|--------------------------------------------------------------+--------|\r\n",
      "|     9560 Massachusetts Ave & Dupont Circle NW                | 31200  |\r\n",
      "|     9388 Lincoln Memorial                                    | 31258  |\r\n",
      "|     8138 Jefferson Dr & 14th St SW                           | 31247  |\r\n",
      "|     7479 Thomas Circle                                       | 31241  |\r\n",
      "|     7401 15th & P St NW                                      | 31201  |\r\n",
      "|     6568 14th & V St NW                                      | 31101  |\r\n",
      "|     6491 New Hampshire Ave & T St NW                         | 31229  |\r\n",
      "|     5649 Eastern Market Metro / Pennsylvania Ave & 7th St SE | 31613  |\r\n",
      "|     5514 17th & Corcoran St NW                               | 31214  |\r\n",
      "|--------------------------------------------------------------+--------|\r\n"
     ]
    }
   ],
   "source": [
    "# Now we list the top ten stations ordered by number of trips departing in Q1 2016.\n",
    "\n",
    "!csvcut -c5,4 q1.csv | sort | uniq -c | sort -rn | head -10 | csvlook"
   ]
  },
  {
   "cell_type": "code",
   "execution_count": 12,
   "metadata": {
    "collapsed": false
   },
   "outputs": [
    {
     "name": "stdout",
     "output_type": "stream",
     "text": [
      "|-----------------|\r\n",
      "|    13120 31623  |\r\n",
      "|-----------------|\r\n",
      "|     9560 31200  |\r\n",
      "|     9388 31258  |\r\n",
      "|     8138 31247  |\r\n",
      "|     7479 31241  |\r\n",
      "|     7401 31201  |\r\n",
      "|     6568 31101  |\r\n",
      "|     6491 31229  |\r\n",
      "|     5649 31613  |\r\n",
      "|     5514 31214  |\r\n",
      "|-----------------|\r\n"
     ]
    }
   ],
   "source": [
    "# And just to check if the write errors are fatal, we do it again using only station number.\n",
    "# No write errors this time with the same results, so the write errors are superficial.\n",
    "\n",
    "!csvcut -c4 q1.csv | sort | uniq -c | sort -rn | head -10 | csvlook"
   ]
  },
  {
   "cell_type": "code",
   "execution_count": 13,
   "metadata": {
    "collapsed": false
   },
   "outputs": [
    {
     "name": "stdout",
     "output_type": "stream",
     "text": [
      "sort: fflush failed: standard output: Broken pipe\r\n",
      "sort: write error\r\n",
      "|------------------------------------------------|\r\n",
      "|    13880 Columbus Circle / Union Station       |\r\n",
      "|------------------------------------------------|\r\n",
      "|    11183 Massachusetts Ave & Dupont Circle NW  |\r\n",
      "|     9419 Lincoln Memorial                      |\r\n",
      "|     8975 Jefferson Dr & 14th St SW             |\r\n",
      "|     8092 15th & P St NW                        |\r\n",
      "|     7267 14th & V St NW                        |\r\n",
      "|     6997 Thomas Circle                         |\r\n",
      "|     6245 New Hampshire Ave & T St NW           |\r\n",
      "|     5761 5th & K St NW                         |\r\n",
      "|     5651 17th & Corcoran St NW                 |\r\n",
      "|------------------------------------------------|\r\n"
     ]
    }
   ],
   "source": [
    "# Now we list the top ten stations ordered by number of trips finishing at each in Q1 2016.\n",
    "\n",
    "!csvcut -c7 q1.csv | sort | uniq -c | sort -rn | head -10 | csvlook"
   ]
  },
  {
   "cell_type": "markdown",
   "metadata": {},
   "source": [
    "So, Columbus Circle / Union Station was by far the most popular departing \n",
    "and the most popular destination station in Q1 2016 (in terms of \n",
    "number of trips originating from and concluding at each station).\n",
    "13120 trips originated and 13880 trips concluded at this station in Q1 2016."
   ]
  },
  {
   "cell_type": "markdown",
   "metadata": {},
   "source": [
    "\n",
    "\n",
    "### Problem 02 -- Capital Bikeshare\n",
    "\n",
    "#### Part B\n",
    "\n",
    "For the most popular departure station, which 10 bikes were used most in trips departing from there? Which\n",
    "10 bikes were used most in trips ending at the most popular destination station?"
   ]
  },
  {
   "cell_type": "code",
   "execution_count": 14,
   "metadata": {
    "collapsed": false
   },
   "outputs": [
    {
     "name": "stdout",
     "output_type": "stream",
     "text": [
      "|------------------------------------------+---------|\r\n",
      "|       17 Columbus Circle / Union Station | W22227  |\r\n",
      "|------------------------------------------+---------|\r\n",
      "|       16 Columbus Circle / Union Station | W21867  |\r\n",
      "|       16 Columbus Circle / Union Station | W21641  |\r\n",
      "|       16 Columbus Circle / Union Station | W21538  |\r\n",
      "|       16 Columbus Circle / Union Station | W21239  |\r\n",
      "|       16 Columbus Circle / Union Station | W20540  |\r\n",
      "|       16 Columbus Circle / Union Station | W00714  |\r\n",
      "|       15 Columbus Circle / Union Station | W22080  |\r\n",
      "|       15 Columbus Circle / Union Station | W21450  |\r\n",
      "|       15 Columbus Circle / Union Station | W21076  |\r\n",
      "|       15 Columbus Circle / Union Station | W00777  |\r\n",
      "|       15 Columbus Circle / Union Station | W00288  |\r\n",
      "|       14 Columbus Circle / Union Station | W22099  |\r\n",
      "|       14 Columbus Circle / Union Station | W22079  |\r\n",
      "|       14 Columbus Circle / Union Station | W21623  |\r\n",
      "|       14 Columbus Circle / Union Station | W20425  |\r\n",
      "|       14 Columbus Circle / Union Station | W01439  |\r\n",
      "|       14 Columbus Circle / Union Station | W01319  |\r\n",
      "|       14 Columbus Circle / Union Station | W00485  |\r\n",
      "|       14 Columbus Circle / Union Station | W00463  |\r\n",
      "|------------------------------------------+---------|\r\n",
      "sort: write failed: standard output: Broken pipe\r\n",
      "sort: write error\r\n"
     ]
    }
   ],
   "source": [
    "# The most popular departure station in Q1 2016 was Union Station.\n",
    "\n",
    "# In a single line pipeline, we generate a list of bikes that departed Union Station\n",
    "# the most often sorted in descending order of departures.\n",
    "# First it includes only the departing station and bike number columns, \n",
    "# keeps only Union Station records, sorts by bike number, \n",
    "# collapses multiple departures by each bike to one line each and prepends the number of departures,\n",
    "# sorts in reverse order and prints the twenty bikes with most departures.\n",
    "\n",
    "!csvcut -c5,8 q1.csv | csvgrep -c1 -m 'Columbus Circle / Union Station' | csvsort -c2 | uniq -c | sort -rn | head -20 | csvlook"
   ]
  },
  {
   "cell_type": "markdown",
   "metadata": {},
   "source": [
    "The ten bikes used the most times in Q1 2016 to leave the most popular departure station (Union Station) are listed in descending order of departures in the table above. Bike number W22227 left 17 times, more than any other bike. Six bikes left 16 times each (all members of the top ten) and five bikes left 15 times (so any three of these round out the last three slots in the list of top ten departing bikes from the most popular departing station)."
   ]
  },
  {
   "cell_type": "code",
   "execution_count": 15,
   "metadata": {
    "collapsed": false
   },
   "outputs": [
    {
     "name": "stdout",
     "output_type": "stream",
     "text": [
      "sort: write failed: standard output: Broken pipe\r\n",
      "sort: write error\r\n",
      "|------------------------------------------+---------|\r\n",
      "|       18 Columbus Circle / Union Station | W00485  |\r\n",
      "|------------------------------------------+---------|\r\n",
      "|       17 Columbus Circle / Union Station | W22227  |\r\n",
      "|       16 Columbus Circle / Union Station | W22099  |\r\n",
      "|       16 Columbus Circle / Union Station | W22080  |\r\n",
      "|       16 Columbus Circle / Union Station | W21239  |\r\n",
      "|       16 Columbus Circle / Union Station | W21076  |\r\n",
      "|       16 Columbus Circle / Union Station | W20425  |\r\n",
      "|       16 Columbus Circle / Union Station | W00714  |\r\n",
      "|       15 Columbus Circle / Union Station | W21997  |\r\n",
      "|       15 Columbus Circle / Union Station | W21867  |\r\n",
      "|       15 Columbus Circle / Union Station | W21641  |\r\n",
      "|       15 Columbus Circle / Union Station | W21538  |\r\n",
      "|       15 Columbus Circle / Union Station | W21450  |\r\n",
      "|       15 Columbus Circle / Union Station | W20540  |\r\n",
      "|       15 Columbus Circle / Union Station | W01439  |\r\n",
      "|       14 Columbus Circle / Union Station | W22217  |\r\n",
      "|       14 Columbus Circle / Union Station | W22079  |\r\n",
      "|       14 Columbus Circle / Union Station | W21803  |\r\n",
      "|       14 Columbus Circle / Union Station | W21797  |\r\n",
      "|       14 Columbus Circle / Union Station | W21788  |\r\n",
      "|------------------------------------------+---------|\r\n"
     ]
    }
   ],
   "source": [
    "# This is the same single line pipeline as above but for Union Station as destination station.\n",
    "\n",
    "!csvcut -c7,8 q1.csv | csvgrep -c1 -m 'Columbus Circle / Union Station' | csvsort -c2 | uniq -c | sort -rn | head -20 | csvlook"
   ]
  },
  {
   "cell_type": "markdown",
   "metadata": {},
   "source": [
    "The ten bikes used the most times in Q1 2016 to come to the most popular arrival station (Union Station) are listed in descending order of arrivals in the table above. Bike number W00485 arrived 18 times, more than any other bike. Bike number W22227--the bike used the most to leave Union Station in Q1--was a close second, arriving 17 times. Six bikes ended their trips 16 times each (all members of the top ten) and seven bikes arrived 15 times (so any two of these round out the last two slots in the list of top ten bikes arriving at the most popular arrival station in Q1 2016)."
   ]
  },
  {
   "cell_type": "markdown",
   "metadata": {},
   "source": [
    "\n",
    "\n",
    "### Problem 03 -- Filters\n",
    "\n",
    "I will be working through this section this weekend as I'm not as familiar with filters in Python as I need to be. \n"
   ]
  }
 ],
 "metadata": {
  "kernelspec": {
   "display_name": "Python 3",
   "language": "python",
   "name": "python3"
  },
  "language_info": {
   "codemirror_mode": {
    "name": "ipython",
    "version": 3
   },
   "file_extension": ".py",
   "mimetype": "text/x-python",
   "name": "python",
   "nbconvert_exporter": "python",
   "pygments_lexer": "ipython3",
   "version": "3.5.2"
  }
 },
 "nbformat": 4,
 "nbformat_minor": 0
}
