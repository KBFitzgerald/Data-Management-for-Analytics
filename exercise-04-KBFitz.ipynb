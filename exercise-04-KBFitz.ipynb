{
 "cells": [
  {
   "cell_type": "markdown",
   "metadata": {},
   "source": [
    "# Exercise 04 - Due Friday, October 21 at 12pm\n",
    "\n",
    "*Objectives*: Gain experience loading a CSV dataset into a database model you define yourself and using SQL to explore its contents. Explore the data by writing and executing a number of SQL queries using common syntax and functions and describing your findings.\n",
    "\n",
    "*Grading criteria*: The tasks should all be completed, and questions should all be answered with SQL queries in the space provided, unless a text answer is requested. Results should be correct, according to the embedded tests. The notebook itself should be completely reproducible; from start to finish, another person should be able to use the same code to obtain the same results as yours.  Note that you will receive no more than partial credit if you do not add text/markdown cells explaining your thinking at each major step in each problem.\n",
    "\n",
    "*Deadline*: Friday, October 21, 12pm. Submit your notebook to Blackboard and push it to your GitHub repository.\n",
    "\n",
    "## Setup - obtain data and create database\n",
    "\n",
    "The US City Open Data Census has data on [restaurant inspections from all over the country](http://us-city.census.okfn.org/dataset/food-safety).  Let's take a look at data from Albuquerque.  *Note*: metadata and other details for this dataset are available at http://data.cabq.gov/business/foodinspections/.\n",
    "\n",
    "Fyi, to save you a step, I've converted this file into a clean CSV file by using the `dos2unix` command to change its line endings and to switch it to use commas instead of tabs using `csvformat -t inputfile.csv > outputfile.csv`.\n",
    "\n",
    "First we download the dataset:"
   ]
  },
  {
   "cell_type": "code",
   "execution_count": 1,
   "metadata": {
    "collapsed": false
   },
   "outputs": [
    {
     "name": "stdout",
     "output_type": "stream",
     "text": [
      "--2016-10-24 14:41:49--  https://raw.githubusercontent.com/gwsb-istm-6212-fall-2016/syllabus-and-schedule/master/exercises/abq-food-inspections-fy2010.csv\n",
      "Resolving raw.githubusercontent.com (raw.githubusercontent.com)... 151.101.32.133\n",
      "Connecting to raw.githubusercontent.com (raw.githubusercontent.com)|151.101.32.133|:443... connected.\n",
      "HTTP request sent, awaiting response... 200 OK\n",
      "Length: 5025226 (4.8M) [text/plain]\n",
      "Saving to: ‘abq-food-inspections-fy2010.csv.1’\n",
      "\n",
      "abq-food-inspection 100%[=====================>]   4.79M  --.-KB/s   in 0.1s   \n",
      "\n",
      "2016-10-24 14:41:50 (38.2 MB/s) - ‘abq-food-inspections-fy2010.csv.1’ saved [5025226/5025226]\n",
      "\n"
     ]
    }
   ],
   "source": [
    "!wget https://raw.githubusercontent.com/gwsb-istm-6212-fall-2016/syllabus-and-schedule/master/exercises/abq-food-inspections-fy2010.csv"
   ]
  },
  {
   "cell_type": "markdown",
   "metadata": {},
   "source": [
    "## Problem 1 - examine the data (35 points)\n",
    "\n",
    "Use `csvstat` and other tools as you see fit and observe its contents.  Review the metadata definitions linked to above.  Describe what you see:  What do all the columns mean?  Are there null values?  Which columns interest you the most?  Which columns present some complications or questions you would like to ask?"
   ]
  },
  {
   "cell_type": "markdown",
   "metadata": {},
   "source": [
    "<><><\n",
    "\n",
    "This dataset documents inspections of establishments that sell food or serve food to the public in Albuquerque NM in fiscal year 2010. The dataset contains the 27 variables listed immediately below followed by descriptive statistics for each. The data exhibit imperfections (null values, etc.) that are common in field data but are generally clean and orderly. This data is from the reporting application used on a daily basis by inspectors for the Environmental Health Department, City of Albuquerque NM. \n",
    "\n",
    "There are 17,556 records in the dataset. \n",
    "\n",
    "Vendors in 2615 locations (FACILITY_NAMEs) with 2835 numbers (FACILITY_KEYs) were inspected at least once. As the most frequent NAME (SMITHS FOOD AND DRUG) is not one of the most frequent KEYs, we see how there could easily be 220 more NAMEs than KEYs.\n",
    "\n",
    "Fields 3-6 and 10-13 are all elements of the postal address for the site. Field 3 (SITE_ADDRESS) has null values, field 4 (CITY) is ALBUQUERQUE in all records, but field 5 (STATE) in NM in most records, but 87 in at least one record. This indicates that the comma that should separate fields 4 and 5 is missing in at least one record as all zip codes (field 6) begin with 87.\n",
    "\n",
    "Field 8 OWNER_NAME indicates that the Albuquerque Public Schools own more than twice as many inspected facilities than the next most frequent owner (SMITHS FOOD AND DRUG). The most frequent business type to be inspected by far were restaurants (field 9).\n",
    "\n",
    "The rest of the dataset is comprised of variable pairs (codes and descriptions) that report on the inspections and their outcomes: Program Category, Inspection Type, Action, Result and Violation. Counts of records for each of these pairs are presented in tables and discussed after the descriptive statistics below."
   ]
  },
  {
   "cell_type": "code",
   "execution_count": 2,
   "metadata": {
    "collapsed": false
   },
   "outputs": [
    {
     "name": "stdout",
     "output_type": "stream",
     "text": [
      "  1: FACILITY_NAME\r\n",
      "  2: FACILITY_KEY\r\n",
      "  3: SITE_ADDRESS\r\n",
      "  4: CITY\r\n",
      "  5: STATE\r\n",
      "  6: ZIP\r\n",
      "  7: OWNER_KEY\r\n",
      "  8: OWNER_NAME\r\n",
      "  9: NATURE_OF_BUSINESS\r\n",
      " 10: STREET_NUMBER\r\n",
      " 11: STREET_NAME\r\n",
      " 12: STREET_TYPE\r\n",
      " 13: POST_DIRECTIONAL\r\n",
      " 14: PHONE\r\n",
      " 15: PROGRAM_CATEGORY\r\n",
      " 16: PROGRAM_CATEGORY_DESCRIPTION\r\n",
      " 17: INSPECTION_DATE\r\n",
      " 18: INSPECTION_TYPE\r\n",
      " 19: INSPECTION_DESC\r\n",
      " 20: SERIAL_NUM\r\n",
      " 21: ACTION_CODE\r\n",
      " 22: ACTION_DESC\r\n",
      " 23: RESULT_CODE\r\n",
      " 24: RESULT_DESC\r\n",
      " 25: VIOLATION_CODE\r\n",
      " 26: VIOLATION_DESC\r\n",
      " 27: INSPECTION_MEMO\r\n"
     ]
    }
   ],
   "source": [
    "# Here are the variables (columns)\n",
    "\n",
    "!csvcut -n abq-food-inspections-fy2010.csv"
   ]
  },
  {
   "cell_type": "code",
   "execution_count": 3,
   "metadata": {
    "collapsed": false
   },
   "outputs": [
    {
     "name": "stdout",
     "output_type": "stream",
     "text": [
      "  1. FACILITY_NAME\n",
      "\t<class 'str'>\n",
      "\tNulls: False\n",
      "\tUnique values: 2615\n",
      "\t5 most frequent values:\n",
      "\t\tSMITHS FOOD AND DRUG CENTERS INC:\t154\n",
      "\t\tISOTOPES PARK - OVATIONS:\t93\n",
      "\t\tPER EHSII CECELIA GARCIA OOB LA REYNA DEL SUR:\t85\n",
      "\t\tISLETA AMPHITHEATER:\t68\n",
      "\t\tECHO INC:\t68\n",
      "\tMax length: 77\n",
      "  2. FACILITY_KEY\n",
      "\t<class 'int'>\n",
      "\tNulls: False\n",
      "\tMin: 13\n",
      "\tMax: 101482\n",
      "\tSum: 820405773\n",
      "\tMean: 46730.79135338346\n",
      "\tMedian: 50866.0\n",
      "\tStandard Deviation: 32659.794578837962\n",
      "\tUnique values: 2835\n",
      "\t5 most frequent values:\n",
      "\t\t46323:\t93\n",
      "\t\t65863:\t85\n",
      "\t\t80949:\t68\n",
      "\t\t32817:\t68\n",
      "\t\t91825:\t66\n",
      "  3. SITE_ADDRESS\n",
      "\t<class 'str'>\n",
      "\tNulls: True\n",
      "\tUnique values: 2456\n",
      "\t5 most frequent values:\n",
      "\t\t1601 AVENIDA CESAR CHAVEZ SE:\t94\n",
      "\t\t644 OLD COORS BLVD SW:\t85\n",
      "\t\t8601 CENTRAL AV NE:\t77\n",
      "\t\t2200 SUNPORT BLVD SE:\t75\n",
      "\t\t5210 CENTRAL AV SE:\t73\n",
      "\tMax length: 35\n",
      "  4. CITY\n",
      "\t<class 'str'>\n",
      "\tNulls: False\n",
      "\tValues: ALBUQUERQUE\n",
      "  5. STATE\n",
      "\t<class 'str'>\n",
      "\tNulls: False\n",
      "\tValues: 87, NM\n",
      "  6. ZIP\n",
      "\t<class 'str'>\n",
      "\tNulls: False\n",
      "\tUnique values: 48\n",
      "\t5 most frequent values:\n",
      "\t\t87110:\t1996\n",
      "\t\t87108:\t1976\n",
      "\t\t87102:\t1601\n",
      "\t\t87106:\t1568\n",
      "\t\t87109:\t1552\n",
      "\tMax length: 10\n",
      "  7. OWNER_KEY\n",
      "\t<class 'int'>\n",
      "\tNulls: False\n",
      "\tMin: 11\n",
      "\tMax: 87302\n",
      "\tSum: 644760848\n",
      "\tMean: 36725.953975848715\n",
      "\tMedian: 33747.0\n",
      "\tStandard Deviation: 29428.207216739836\n",
      "\tUnique values: 1892\n",
      "\t5 most frequent values:\n",
      "\t\t1838:\t792\n",
      "\t\t3537:\t321\n",
      "\t\t1272:\t228\n",
      "\t\t36280:\t156\n",
      "\t\t80274:\t155\n",
      "  8. OWNER_NAME\n",
      "\t<class 'str'>\n",
      "\tNulls: False\n",
      "\tUnique values: 1852\n",
      "\t5 most frequent values:\n",
      "\t\tAPS:\t792\n",
      "\t\tSMITHS FOOD AND DRUG CENTERS INC:\t321\n",
      "\t\tCIRCLE K STORES INC:\t277\n",
      "\t\tALBERTSONS:\t228\n",
      "\t\tWAL MART STORES EAST  LP:\t156\n",
      "\tMax length: 82\n",
      "  9. NATURE_OF_BUSINESS\n",
      "\t<class 'str'>\n",
      "\tNulls: True\n",
      "\tUnique values: 594\n",
      "\t5 most frequent values:\n",
      "\t\tRESTAURANT:\t4994\n",
      "\t\tFOOD SERVICE:\t691\n",
      "\t\tGROCERY:\t618\n",
      "\t\tBAR/RESTAURANT:\t508\n",
      "\t\tAPS SCHOOL FOOD SERVICE:\t470\n",
      "\tMax length: 25\n",
      " 10. STREET_NUMBER\n",
      "\t<class 'str'>\n",
      "\tNulls: True\n",
      "\tUnique values: 1349\n",
      "\t5 most frequent values:\n",
      "\t\t6600:\t216\n",
      "\t\t10000:\t152\n",
      "\t\t300:\t143\n",
      "\t\t2200:\t127\n",
      "\t\t8100:\t125\n",
      "\tMax length: 7\n",
      " 11. STREET_NAME\n",
      "\t<class 'str'>\n",
      "\tNulls: True\n",
      "\tUnique values: 404\n",
      "\t5 most frequent values:\n",
      "\t\tCENTRAL:\t1898\n",
      "\t\tMENAUL:\t928\n",
      "\t\tCOORS:\t918\n",
      "\t\tMONTGOMERY:\t727\n",
      "\t\tSAN MATEO:\t707\n",
      "\tMax length: 24\n",
      " 12. STREET_TYPE\n",
      "\t<class 'str'>\n",
      "\tNulls: True\n",
      "\tUnique values: 13\n",
      "\t5 most frequent values:\n",
      "\t\tBLVD:\t7636\n",
      "\t\tAV:\t3005\n",
      "\t\tST:\t2065\n",
      "\t\tRD:\t1900\n",
      "\t\tDR:\t995\n",
      "\tMax length: 4\n",
      " 13. POST_DIRECTIONAL\n",
      "\t<class 'str'>\n",
      "\tNulls: True\n",
      "\tValues: SE, N, SW, NE, NW\n",
      " 14. PHONE\n",
      "\t<class 'int'>\n",
      "\tNulls: True\n",
      "\tMin: 2471094\n",
      "\tMax: 505345566137310\n",
      "\tSum: 2608539289633190\n",
      "\tMean: 161719732773.29138\n",
      "\tMedian: 5053454060.0\n",
      "\tStandard Deviation: 8895791545525.992\n",
      "\tUnique values: 2279\n",
      "\t5 most frequent values:\n",
      "\t\t9153321301:\t101\n",
      "\t\t3037929467:\t100\n",
      "\t\t5052224033:\t94\n",
      "\t\t3109680646:\t85\n",
      "\t\t5052426777:\t68\n",
      " 15. PROGRAM_CATEGORY\n",
      "\t<class 'str'>\n",
      "\tNulls: False\n",
      "\tUnique values: 25\n",
      "\t5 most frequent values:\n",
      "\t\t0406:\t7969\n",
      "\t\t0601:\t1159\n",
      "\t\t0607:\t894\n",
      "\t\t0606:\t865\n",
      "\t\t0501:\t832\n",
      "\tMax length: 4\n",
      " 16. PROGRAM_CATEGORY_DESCRIPTION\n",
      "\t<class 'str'>\n",
      "\tNulls: True\n",
      "\tUnique values: 24\n",
      "\t5 most frequent values:\n",
      "\t\tFood Service Establishment:\t7969\n",
      "\t\tRetail -Grocery:\t1159\n",
      "\t\tRetail - Self Service & Prepackage Foods:\t894\n",
      "\t\tRetail - Prepackage Only:\t865\n",
      "\t\tBar:\t832\n",
      "\tMax length: 40\n",
      " 17. INSPECTION_DATE\n",
      "\t<class 'datetime.date'>\n",
      "\tNulls: False\n",
      "\tMin: 2009-07-01\n",
      "\tMax: 2010-06-30\n",
      "\tUnique values: 258\n",
      "\t5 most frequent values:\n",
      "\t\t2009-12-16:\t184\n",
      "\t\t2009-09-10:\t159\n",
      "\t\t2009-09-25:\t148\n",
      "\t\t2009-11-04:\t133\n",
      "\t\t2009-10-01:\t131\n",
      " 18. INSPECTION_TYPE\n",
      "\t<class 'NoneType'>\n",
      "\tNulls: True\n",
      "\tValues: \n",
      " 19. INSPECTION_DESC\n",
      "\t<class 'str'>\n",
      "\tNulls: False\n",
      "\tUnique values: 15\n",
      "\t5 most frequent values:\n",
      "\t\tROUTINE FOOD INSPECTION:\t12439\n",
      "\t\tEMERGENCY RESPONSE:\t1987\n",
      "\t\tNew Business Inspection:\t1005\n",
      "\t\tPRE-OPENING FOOD INSPECTION:\t743\n",
      "\t\tADDITIONAL SERVICE PROVIDED:\t439\n",
      "\tMax length: 32\n",
      " 20. SERIAL_NUM\n",
      "\t<class 'str'>\n",
      "\tNulls: False\n",
      "\tUnique values: 9046\n",
      "\t5 most frequent values:\n",
      "\t\tDA0047290:\t61\n",
      "\t\tDA0045731:\t61\n",
      "\t\tDA0047720:\t61\n",
      "\t\tDA0045676:\t61\n",
      "\t\tDA0059230:\t61\n",
      "\tMax length: 9\n",
      " 21. ACTION_CODE\n",
      "\t<class 'str'>\n",
      "\tNulls: False\n",
      "\tUnique values: 8\n",
      "\t5 most frequent values:\n",
      "\t\t11:\t14080\n",
      "\t\t00:\t2800\n",
      "\t\t09:\t382\n",
      "\t\t06:\t264\n",
      "\t\t10:\t21\n",
      "\tMax length: 2\n",
      " 22. ACTION_DESC\n",
      "\t<class 'str'>\n",
      "\tNulls: False\n",
      "\tUnique values: 8\n",
      "\t5 most frequent values:\n",
      "\t\tAPPROVED:\t14080\n",
      "\t\tNON-GRADED:\t2800\n",
      "\t\tANNUAL STICKER ISSUED:\t382\n",
      "\t\tUNSATISFACTORY:\t264\n",
      "\t\tANNUAL STICKER NOT ISSUED:\t21\n",
      "\tMax length: 34\n",
      " 23. RESULT_CODE\n",
      "\t<class 'str'>\n",
      "\tNulls: False\n",
      "\tUnique values: 19\n",
      "\t5 most frequent values:\n",
      "\t\t03:\t14389\n",
      "\t\t00:\t2416\n",
      "\t\t05:\t214\n",
      "\t\t22:\t142\n",
      "\t\t18:\t104\n",
      "\tMax length: 2\n",
      " 24. RESULT_DESC\n",
      "\t<class 'str'>\n",
      "\tNulls: False\n",
      "\tUnique values: 19\n",
      "\t5 most frequent values:\n",
      "\t\tIN COMPLIANCE:\t14389\n",
      "\t\tNOT APPLICABLE:\t2416\n",
      "\t\tDOWNGRADE:\t214\n",
      "\t\tOUT OF BUSINESS:\t142\n",
      "\t\tTRAINING RECEIVED:\t104\n",
      "\tMax length: 37\n",
      " 25. VIOLATION_CODE\n",
      "\t<class 'str'>\n",
      "\tNulls: True\n",
      "\tUnique values: 128\n",
      "\t5 most frequent values:\n",
      "\t\t55:\t6348\n",
      "\t\t00:\t3429\n",
      "\t\t68:\t1658\n",
      "\t\t42:\t487\n",
      "\t\t35:\t441\n",
      "\tMax length: 10\n",
      " 26. VIOLATION_DESC\n",
      "\t<class 'str'>\n",
      "\tNulls: True\n",
      "\tUnique values: 70\n",
      "\t5 most frequent values:\n",
      "\t\tAdditional Comments:\t6353\n",
      "\t\tNo Violations Found:\t3434\n",
      "\t\tDelivered Informational Brochure:\t1657\n",
      "\t\tPlumbing: Improperly installed/maintained/supplied:\t492\n",
      "\t\tNon-Food contact surfaces:\t446\n",
      "\tMax length: 50\n",
      " 27. INSPECTION_MEMO\n",
      "\t<class 'NoneType'>\n",
      "\tNulls: True\n",
      "\tValues: \n",
      "\n",
      "Row count: 17556\n"
     ]
    }
   ],
   "source": [
    "# and descriptive statistics for each variable.\n",
    "\n",
    "!csvstat abq-food-inspections-fy2010.csv"
   ]
  },
  {
   "cell_type": "markdown",
   "metadata": {},
   "source": [
    "<><><\n",
    "\n",
    "The Program Category listing below shows that category 0411 is missing a description."
   ]
  },
  {
   "cell_type": "code",
   "execution_count": 4,
   "metadata": {
    "collapsed": false
   },
   "outputs": [
    {
     "name": "stdout",
     "output_type": "stream",
     "text": [
      "|---------------------------+-------------------------------------------|\r\n",
      "|        1 PROGRAM_CATEGORY | PROGRAM_CATEGORY_DESCRIPTION              |\r\n",
      "|---------------------------+-------------------------------------------|\r\n",
      "|      748 0402             | Childcare                                 |\r\n",
      "|      343 0403             | Bakery                                    |\r\n",
      "|      357 0404             | Institutional Kitchen                     |\r\n",
      "|      489 0405             | Food Processor                            |\r\n",
      "|     7969 0406             | Food Service Establishment                |\r\n",
      "|      288 0407             | Limited Menu                              |\r\n",
      "|      832 0408             | School                                    |\r\n",
      "|      319 0409             | Non School                                |\r\n",
      "|       73 0410             | NOT FOR PROFIT KITCHEN PERMIT             |\r\n",
      "|       96 0411             |                                           |\r\n",
      "|      832 0501             | Bar                                       |\r\n",
      "|     1159 0601             | Retail -Grocery                           |\r\n",
      "|      121 0602             | Meat Market                               |\r\n",
      "|      203 0603             | Warehouse                                 |\r\n",
      "|      203 0604             | Seasonal Venue -Fixed Location            |\r\n",
      "|       67 0605             | Seasonal Location -Food Service Permit    |\r\n",
      "|      865 0606             | Retail - Prepackage Only                  |\r\n",
      "|      894 0607             | Retail - Self Service & Prepackage Foods  |\r\n",
      "|      339 0608             | Retail - Deli                             |\r\n",
      "|      294 0609             | Retail - Meat/Seafood                     |\r\n",
      "|      113 0610             | Retail - Specialty Food Permit            |\r\n",
      "|       90 1000             | Frozen Food Truck                         |\r\n",
      "|      515 1001             | Mobile Pre-Packaged                       |\r\n",
      "|      341 1002             | Mobile Food Unit                          |\r\n",
      "|        6 1003             | Food/Drink Vending - Up to 15 Units       |\r\n",
      "|---------------------------+-------------------------------------------|\r\n"
     ]
    }
   ],
   "source": [
    "!csvcut -c15,16 abq-food-inspections-fy2010.csv | csvsort | uniq -c | csvlook"
   ]
  },
  {
   "cell_type": "markdown",
   "metadata": {},
   "source": [
    "<><><\n",
    "\n",
    "INSPECTION_TYPE is null for all, so INSPECTION_DESC actually conveys the type."
   ]
  },
  {
   "cell_type": "code",
   "execution_count": 5,
   "metadata": {
    "collapsed": false
   },
   "outputs": [
    {
     "name": "stdout",
     "output_type": "stream",
     "text": [
      "|--------------------------+-----------------------------------|\r\n",
      "|        1 INSPECTION_TYPE | INSPECTION_DESC                   |\r\n",
      "|--------------------------+-----------------------------------|\r\n",
      "|      439                 | ADDITIONAL SERVICE PROVIDED       |\r\n",
      "|        1                 | COMPLAINT FOOD INSPECTION         |\r\n",
      "|        1                 | E-MAIL                            |\r\n",
      "|     1987                 | EMERGENCY RESPONSE                |\r\n",
      "|        5                 | FIRE CALL                         |\r\n",
      "|       75                 | FOLLOW-UP DOCUMENTATION RECEIVED  |\r\n",
      "|      143                 | FOOD FOLLOW-UP INSPECTION         |\r\n",
      "|       36                 | IMMINENT HEALTH HAZARD            |\r\n",
      "|       54                 | MANAGERIAL ASSISTANCE             |\r\n",
      "|      377                 | MOBILE UNIT FOOD INSPECTION       |\r\n",
      "|     1005                 | New Business Inspection           |\r\n",
      "|      247                 | PHONE CALL                        |\r\n",
      "|        4                 | PLAN REVIEW INSPECTION            |\r\n",
      "|      743                 | PRE-OPENING FOOD INSPECTION       |\r\n",
      "|    12439                 | ROUTINE FOOD INSPECTION           |\r\n",
      "|--------------------------+-----------------------------------|\r\n"
     ]
    }
   ],
   "source": [
    "!csvcut -c18,19 abq-food-inspections-fy2010.csv | csvsort | uniq -c | csvlook"
   ]
  },
  {
   "cell_type": "markdown",
   "metadata": {},
   "source": [
    "<><><\n",
    "\n",
    "ACTION_CODE 00 means no action was taken. Else, a negative action taken in ~1.6% of cases appears to show that both the food distribution system and the inspections regime are both relatively healthy."
   ]
  },
  {
   "cell_type": "code",
   "execution_count": 6,
   "metadata": {
    "collapsed": false
   },
   "outputs": [
    {
     "name": "stdout",
     "output_type": "stream",
     "text": [
      "|----------------------+-------------------------------------|\r\n",
      "|        1 ACTION_CODE | ACTION_DESC                         |\r\n",
      "|----------------------+-------------------------------------|\r\n",
      "|     2800 00          | NON-GRADED                          |\r\n",
      "|        1 03          | FACILITY CLOSED AT TIME OF SERVICE  |\r\n",
      "|      264 06          | UNSATISFACTORY                      |\r\n",
      "|      382 09          | ANNUAL STICKER ISSUED               |\r\n",
      "|       21 10          | ANNUAL STICKER NOT ISSUED           |\r\n",
      "|    14080 11          | APPROVED                            |\r\n",
      "|        3 12          | NO PERMIT APPLICATION ISSUED        |\r\n",
      "|        5 17          | FOOD PERMIT SUSPENSION              |\r\n",
      "|----------------------+-------------------------------------|\r\n"
     ]
    }
   ],
   "source": [
    "!csvcut -c21,22 abq-food-inspections-fy2010.csv | csvsort | uniq -c | csvlook"
   ]
  },
  {
   "cell_type": "markdown",
   "metadata": {},
   "source": [
    "<><><\n",
    "\n",
    "RESULT_CODEs appear to be generally consistent with Actions."
   ]
  },
  {
   "cell_type": "code",
   "execution_count": 7,
   "metadata": {
    "collapsed": false
   },
   "outputs": [
    {
     "name": "stdout",
     "output_type": "stream",
     "text": [
      "|----------------------+----------------------------------------|\r\n",
      "|        1 RESULT_CODE | RESULT_DESC                            |\r\n",
      "|----------------------+----------------------------------------|\r\n",
      "|     2416 00          | NOT APPLICABLE                         |\r\n",
      "|       24 02          | NOT IN COMPLIANCE                      |\r\n",
      "|    14389 03          | IN COMPLIANCE                          |\r\n",
      "|        3 04          | NOTICE                                 |\r\n",
      "|      214 05          | DOWNGRADE                              |\r\n",
      "|       69 06          | UPGRADE                                |\r\n",
      "|        2 07          | PERMIT SUSPENSION                      |\r\n",
      "|        1 08          | VOLUNTARY CLOSURE                      |\r\n",
      "|        1 10          | PERMISSION TO OPERATE                  |\r\n",
      "|       19 11          | FACILITY CLOSED AT TIME OF INSPECTION  |\r\n",
      "|       11 12          | PERMIT REINSTATEMENT                   |\r\n",
      "|       90 13          | PHONE CALL                             |\r\n",
      "|       45 14          | IMMEDIATE CLOSURE                      |\r\n",
      "|      104 18          | TRAINING RECEIVED                      |\r\n",
      "|        5 19          | WITNESS TO DESTRUCTION                 |\r\n",
      "|        3 20          | EMBARGO                                |\r\n",
      "|      142 22          | OUT OF BUSINESS                        |\r\n",
      "|        2 25          | PLAN REVIEW -APPROVED                  |\r\n",
      "|       16 27          | RECALL VERIFICATION                    |\r\n",
      "|----------------------+----------------------------------------|\r\n"
     ]
    }
   ],
   "source": [
    "!csvcut -c23,24 abq-food-inspections-fy2010.csv | csvsort | uniq -c | csvlook"
   ]
  },
  {
   "cell_type": "markdown",
   "metadata": {},
   "source": [
    "<><><\n",
    "\n",
    "VIOLATION_CODEs and DESCriptions are null for 1008 observations. It may be evident from inspection ACTIONs or RESULTs. It is strange that there are exactly 5 observations each of CODE 04  00 - 04  73. As with the null observations, the meaning of this pattern is likely evident from other variables for those observations."
   ]
  },
  {
   "cell_type": "code",
   "execution_count": 8,
   "metadata": {
    "collapsed": false
   },
   "outputs": [
    {
     "name": "stdout",
     "output_type": "stream",
     "text": [
      "|-------------------------+-----------------------------------------------------|\r\n",
      "|        1 VIOLATION_CODE | VIOLATION_DESC                                      |\r\n",
      "|-------------------------+-----------------------------------------------------|\r\n",
      "|     1008                |                                                     |\r\n",
      "|        1                | Additional Comments                                 |\r\n",
      "|     3429 00             | No Violations Found                                 |\r\n",
      "|      196 01             | Cold Holding                                        |\r\n",
      "|      170 02             | Hot Holding                                         |\r\n",
      "|        1 02 15A0204     | OTHER - MISCELLEANOUS                               |\r\n",
      "|       40 03             | Reheating Temp                                      |\r\n",
      "|        1 04             | Cooking Temperatures                                |\r\n",
      "|        5 04  00         | No Violations Found                                 |\r\n",
      "|        5 04  01         | Cold Holding                                        |\r\n",
      "|        5 04  02         | Hot Holding                                         |\r\n",
      "|        5 04  03         | Reheating Temp                                      |\r\n",
      "|        5 04  04         | Cooking Temperatures                                |\r\n",
      "|        5 04  05         | Cooling, Heating Procedures                         |\r\n",
      "|        5 04  06         | Personnel w/infection restricted/excluded           |\r\n",
      "|        5 04  07         | Improper handwashing                                |\r\n",
      "|        5 04  08         | Barehand Contact with ready to eat food             |\r\n",
      "|        5 04  09         | Smoking, Eating, Drinking                           |\r\n",
      "|        5 04  10         | Food Cross Contamination                            |\r\n",
      "|        5 04  11         | Contaminated equipment                              |\r\n",
      "|        5 04  12         | Enough facilities to maintain product temps         |\r\n",
      "|        5 04  13         | Adulterated food                                    |\r\n",
      "|        5 04  14         | Unapproved Source                                   |\r\n",
      "|        5 04  15         | Bent, swollen containers                            |\r\n",
      "|        5 04  16         | Inadequate water source, Hot or cold                |\r\n",
      "|        5 04  17         | Unapproved sewage and wastewater disposal           |\r\n",
      "|        5 04  18         | Cross connection, back siphonage, backflow          |\r\n",
      "|        5 04  19         | Handwash Facilities - Inaccessible, unavailable     |\r\n",
      "|        5 04  20         | Handwash Facilities - Inadequate                    |\r\n",
      "|        5 04  21         | Improper sanitizing                                 |\r\n",
      "|        5 04  22         | Improper use of wiping cloths                       |\r\n",
      "|        5 04  23         | Toxic Items- Improper Usage                         |\r\n",
      "|        5 04  24         | Toxic Items- Improper Labels                        |\r\n",
      "|        5 04  25         | Toxic Items- Improper Storage                       |\r\n",
      "|        5 04  26         | Evidence of insects                                 |\r\n",
      "|        5 04  27         | Evidence of rodents                                 |\r\n",
      "|        5 04  28         | Insect, rodents, animals - Other                    |\r\n",
      "|        5 04  29         | Poor Hygienic Practices- Soiled Clothing            |\r\n",
      "|        5 04  30         | Poor Hygienic Practices- No hair restraints         |\r\n",
      "|        5 04  31         | Warewashing Thermometers/Test Kits not provided     |\r\n",
      "|        5 04  32         | Improper storage/handling of clean equipment/utens  |\r\n",
      "|        5 04  33         | Warewashing facilities                              |\r\n",
      "|        5 04  34         | Food contact surfaces                               |\r\n",
      "|        5 04  35         | Non-Food contact surfaces                           |\r\n",
      "|        5 04  36         | Thermometers not provided, not accurate/consp       |\r\n",
      "|        5 04  37         | Potentially hazardous food improperly thawed        |\r\n",
      "|        5 04  38         | Food unprotected                                    |\r\n",
      "|        5 04  39         | Food dispensing utensils improperly stored          |\r\n",
      "|        5 04  40         | Food improperly labeled                             |\r\n",
      "|        5 04  41         | Unapproved container                                |\r\n",
      "|        5 04  42         | Plumbing: Improperly installed/maintained/supplied  |\r\n",
      "|        5 04  43         | Toilet room fixtures                                |\r\n",
      "|        5 04  44         | Garbage area improperly maintained or constructed   |\r\n",
      "|        5 04  45         | Floors, Walls, Ceilings                             |\r\n",
      "|        5 04  46         | Other Operations - Lighting                         |\r\n",
      "|        5 04  47         | Other Operations - Ventilation                      |\r\n",
      "|        5 04  48         | Other Operations - Personal Items                   |\r\n",
      "|        5 04  49         | Other Operations - Linen                            |\r\n",
      "|        5 04  50         | Other Operations - Living/Sleeping/Laundry          |\r\n",
      "|        5 04  51         | Other Operations - Premises                         |\r\n",
      "|        5 04  58         | OPERATING WITHOUT A VALID PERMIT                    |\r\n",
      "|        5 04  59         | OBSERVATIONS                                        |\r\n",
      "|        5 04  60         | Complaint Substantiated                             |\r\n",
      "|        5 04  61         | Complaint Not Substantiated                         |\r\n",
      "|        5 04  69         | NO HOT WATER                                        |\r\n",
      "|        2 04  70         | LACK OF REFIGERATIONS                               |\r\n",
      "|        3 04  70         | LACK OF REFRIGERATION                               |\r\n",
      "|        5 04  71         | SEWAGE IN FACILITY                                  |\r\n",
      "|        5 04  72         | INFESTATION                                         |\r\n",
      "|        5 04  73         | OTHER                                               |\r\n",
      "|       52 05             | Cooling, Heating Procedures                         |\r\n",
      "|        1 06             | Personnel w/infection restricted/excluded           |\r\n",
      "|       35 07             | Improper handwashing                                |\r\n",
      "|        1 07  D1         | Maintenance & Operation                             |\r\n",
      "|        1 07  H1         | No violations found at time of inspection.          |\r\n",
      "|        1 07  H4         | Additional Comments                                 |\r\n",
      "|       36 08             | Barehand Contact with ready to eat food             |\r\n",
      "|      109 09             | Smoking, Eating, Drinking                           |\r\n",
      "|       28 10             | Food Cross Contamination                            |\r\n",
      "|       15 11             | Contaminated equipment                              |\r\n",
      "|       11 12             | Enough facilities to maintain product temps         |\r\n",
      "|       23 13             | Adulterated food                                    |\r\n",
      "|        9 14             | Unapproved Source                                   |\r\n",
      "|       16 15             | Bent, swollen containers                            |\r\n",
      "|       37 16             | Inadequate water source, Hot or cold                |\r\n",
      "|       13 17             | Unapproved sewage and wastewater disposal           |\r\n",
      "|       84 19             | Handwash Facilities - Inaccessible, unavailable     |\r\n",
      "|       13 20             | Handwash Facilities - Inadequate                    |\r\n",
      "|      429 21             | Improper sanitizing                                 |\r\n",
      "|      119 22             | Improper use of wiping cloths                       |\r\n",
      "|       15 23             | Toxic Items- Improper Usage                         |\r\n",
      "|       39 24             | Toxic Items- Improper Labels                        |\r\n",
      "|       34 25             | Toxic Items- Improper Storage                       |\r\n",
      "|       37 26             | Evidence of insects                                 |\r\n",
      "|       18 27             | Evidence of rodents                                 |\r\n",
      "|        4 28             | Insect, rodents, animals - Other                    |\r\n",
      "|        2 29             | Poor Hygienic Practices- Soiled Clothing            |\r\n",
      "|       11 30             | Poor Hygienic Practices- No hair restraints         |\r\n",
      "|      108 31             | Warewashing Thermometers/Test Kits not provided     |\r\n",
      "|       88 32             | Improper storage/handling of clean equipment/utens  |\r\n",
      "|       75 33             | Warewashing facilities                              |\r\n",
      "|      246 34             | Food contact surfaces                               |\r\n",
      "|      441 35             | Non-Food contact surfaces                           |\r\n",
      "|      178 36             | Thermometers not provided, not accurate/consp       |\r\n",
      "|       58 37             | Potentially hazardous food improperly thawed        |\r\n",
      "|      420 38             | Food unprotected                                    |\r\n",
      "|       92 39             | Food dispensing utensils improperly stored          |\r\n",
      "|      129 40             | Food improperly labeled                             |\r\n",
      "|       17 41             | Unapproved container                                |\r\n",
      "|      487 42             | Plumbing: Improperly installed/maintained/supplied  |\r\n",
      "|       44 43             | Toilet room fixtures                                |\r\n",
      "|       19 44             | Garbage area improperly maintained or constructed   |\r\n",
      "|      401 45             | Floors, Walls, Ceilings                             |\r\n",
      "|      137 46             | Other Operations - Lighting                         |\r\n",
      "|       20 47             | Other Operations - Ventilation                      |\r\n",
      "|       43 48             | Other Operations - Personal Items                   |\r\n",
      "|        7 49             | Other Operations - Linen                            |\r\n",
      "|        5 50             | Other Operations - Living/Sleeping/Laundry          |\r\n",
      "|       91 51             | Other Operations - Premises                         |\r\n",
      "|        9 52             | IMMEDIATE CLOSURE - IMMINENT HEALTH HAZARD          |\r\n",
      "|     6348 55             | Additional Comments                                 |\r\n",
      "|        1 56             | Notice Statement                                    |\r\n",
      "|       15 57             | Downgrade Statement                                 |\r\n",
      "|       56 58             | OPERATING WITHOUT A VALID PERMIT                    |\r\n",
      "|        6 59             | OBSERVATIONS                                        |\r\n",
      "|        3 60             | Complaint Substantiated                             |\r\n",
      "|        7 61             | Complaint Not Substantiated                         |\r\n",
      "|        1 66             | Additional Comments                                 |\r\n",
      "|        1 68             |                                                     |\r\n",
      "|     1657 68             | Delivered Informational Brochure                    |\r\n",
      "|        1 \\              | Additional Comments                                 |\r\n",
      "|        1 ]              | Additional Comments                                 |\r\n",
      "|-------------------------+-----------------------------------------------------|\r\n"
     ]
    }
   ],
   "source": [
    "!csvcut -c25,26 abq-food-inspections-fy2010.csv | csvsort | uniq -c | csvlook"
   ]
  },
  {
   "cell_type": "markdown",
   "metadata": {},
   "source": [
    "<><><\n",
    "\n",
    "<><><\n",
    "\n",
    "<><><\n"
   ]
  },
  {
   "cell_type": "markdown",
   "metadata": {},
   "source": [
    "## Problem 2 - define a database model and load the data (35 points)\n",
    "\n",
    "Based on what you found above, create and connect to a new database, define a database table in it, and load this dataset into it.  You may use either of the methods for this step you have seen in earlier class notebooks.  You may choose to eliminate variables/columns if they are not relevant or interesting to you - explain your reasoning if you do.  Either way, you should load a majority of the columns present in the source dataset into the database and all of its rows.\n",
    "\n",
    "Once your data has loaded successfully, run a `COUNT(*)` query to verify that all the data has loaded correctly.\n",
    "\n",
    "Insert a combination of code and text/markdown cells here to connect to your database, define your table, load its data, and verify the loaded records."
   ]
  },
  {
   "cell_type": "markdown",
   "metadata": {},
   "source": [
    "<><><\n",
    "\n",
    "We shall use postgreSQL on datanotebook.org to directly define our schema. First we need to restart postgreSQL ..."
   ]
  },
  {
   "cell_type": "code",
   "execution_count": 9,
   "metadata": {
    "collapsed": false
   },
   "outputs": [
    {
     "name": "stdout",
     "output_type": "stream",
     "text": [
      "[sudo] password for jovyan: Restarting PostgreSQL 9.5 database server: main.\n"
     ]
    }
   ],
   "source": [
    "!echo 'redspot' | sudo -S service postgresql restart"
   ]
  },
  {
   "cell_type": "markdown",
   "metadata": {},
   "source": [
    "<><><\n",
    "\n",
    "Next we create database ex04 as the default user ..."
   ]
  },
  {
   "cell_type": "code",
   "execution_count": 10,
   "metadata": {
    "collapsed": false
   },
   "outputs": [
    {
     "name": "stdout",
     "output_type": "stream",
     "text": [
      "createdb: database creation failed: ERROR:  database \"ex04\" already exists\r\n"
     ]
    }
   ],
   "source": [
    "!createdb -U dbuser ex04"
   ]
  },
  {
   "cell_type": "markdown",
   "metadata": {},
   "source": [
    "<><><\n",
    "\n",
    "We then activate the `ipython-sql` extension ..."
   ]
  },
  {
   "cell_type": "code",
   "execution_count": 11,
   "metadata": {
    "collapsed": false
   },
   "outputs": [
    {
     "name": "stderr",
     "output_type": "stream",
     "text": [
      "/opt/conda/lib/python3.5/site-packages/IPython/config.py:13: ShimWarning: The `IPython.config` package has been deprecated. You should import from traitlets.config instead.\n",
      "  \"You should import from traitlets.config instead.\", ShimWarning)\n",
      "/opt/conda/lib/python3.5/site-packages/IPython/utils/traitlets.py:5: UserWarning: IPython.utils.traitlets has moved to a top-level traitlets package.\n",
      "  warn(\"IPython.utils.traitlets has moved to a top-level traitlets package.\")\n"
     ]
    }
   ],
   "source": [
    "%load_ext sql"
   ]
  },
  {
   "cell_type": "markdown",
   "metadata": {},
   "source": [
    "<><><\n",
    "\n",
    "and connect to ex04 specifying the postgreSQL backend, localhost and port ..."
   ]
  },
  {
   "cell_type": "code",
   "execution_count": 12,
   "metadata": {
    "collapsed": false
   },
   "outputs": [
    {
     "data": {
      "text/plain": [
       "'Connected: dbuser@ex04'"
      ]
     },
     "execution_count": 12,
     "metadata": {},
     "output_type": "execute_result"
    }
   ],
   "source": [
    "%sql postgresql://dbuser@localhost:5432/ex04"
   ]
  },
  {
   "cell_type": "markdown",
   "metadata": {},
   "source": [
    "Now that we're connected to the ex04 database, we can specify the structure of the data table that will hold the data. I'm calling the table ex04 -- probably not a very good idea -- but SQL takes it all in stride.\n",
    "\n",
    "We'll keep all variables initially. Later, we'll drop CITY (all Albuquerque), STATE (all should be NM, we know it's not, but we're not going to clean the data), INSPECTION_TYPE (all missing) and INSPECTION_MEMO (all missing). I'm sure I could drop these variables right here. But since I'm new to SQL I'll be cautious and get it all in to begin."
   ]
  },
  {
   "cell_type": "code",
   "execution_count": 13,
   "metadata": {
    "collapsed": false
   },
   "outputs": [
    {
     "name": "stdout",
     "output_type": "stream",
     "text": [
      "Done.\n",
      "Done.\n"
     ]
    },
    {
     "data": {
      "text/plain": [
       "[]"
      ]
     },
     "execution_count": 13,
     "metadata": {},
     "output_type": "execute_result"
    }
   ],
   "source": [
    "%%sql\n",
    "DROP TABLE IF EXISTS ex04;\n",
    "CREATE TABLE ex04 (\n",
    "    fac VARCHAR(77),\n",
    "    fac_key CHAR(6),\n",
    "    site_addr VARCHAR(35),\n",
    "    city CHAR(11),\n",
    "    state CHAR(2),\n",
    "    zipc CHAR(10),\n",
    "    owner_key CHAR(5),\n",
    "    owner VARCHAR(82),\n",
    "    bus VARCHAR(25),\n",
    "    st_num CHAR(7),\n",
    "    st VARCHAR(24),\n",
    "    st_typ CHAR(4),\n",
    "    post CHAR(2),\n",
    "    phone CHAR(15),\n",
    "    pgm_num CHAR(4),\n",
    "    pgm_desc VARCHAR(40),\n",
    "    insp_date TIMESTAMP,\n",
    "    insp_type CHAR(1),\n",
    "    insp_desc VARCHAR(32),\n",
    "    serial CHAR(9),\n",
    "    action_code CHAR(2),\n",
    "    action_desc VARCHAR(34),\n",
    "    result_code CHAR(2),\n",
    "    result_desc VARCHAR(37), \n",
    "    violation_code VARCHAR(10),\n",
    "    violation_desc VARCHAR(50),\n",
    "    insp_memo CHAR(1)\n",
    ")"
   ]
  },
  {
   "cell_type": "markdown",
   "metadata": {},
   "source": [
    "<><><\n",
    "\n",
    "Apparently, the COPY (table) FROM statement below requires an absolute path, so we provide it ... "
   ]
  },
  {
   "cell_type": "code",
   "execution_count": 14,
   "metadata": {
    "collapsed": false
   },
   "outputs": [
    {
     "name": "stdout",
     "output_type": "stream",
     "text": [
      "/home/jovyan/work\r\n"
     ]
    }
   ],
   "source": [
    "!pwd"
   ]
  },
  {
   "cell_type": "code",
   "execution_count": 15,
   "metadata": {
    "collapsed": false
   },
   "outputs": [
    {
     "name": "stdout",
     "output_type": "stream",
     "text": [
      "17556 rows affected.\n"
     ]
    },
    {
     "data": {
      "text/plain": [
       "[]"
      ]
     },
     "execution_count": 15,
     "metadata": {},
     "output_type": "execute_result"
    }
   ],
   "source": [
    "%%sql\n",
    "COPY ex04 FROM '/home/jovyan/work/abq-food-inspections-fy2010.csv'\n",
    "CSV\n",
    "HEADER\n",
    "QUOTE '\"'\n",
    "DELIMITER ',';"
   ]
  },
  {
   "cell_type": "markdown",
   "metadata": {},
   "source": [
    "<><><\n",
    "\n",
    "Well that looks perfect to me. Let's count all rows explicitly ..."
   ]
  },
  {
   "cell_type": "code",
   "execution_count": 16,
   "metadata": {
    "collapsed": false
   },
   "outputs": [
    {
     "name": "stdout",
     "output_type": "stream",
     "text": [
      "1 rows affected.\n"
     ]
    },
    {
     "data": {
      "text/html": [
       "<table>\n",
       "    <tr>\n",
       "        <th>count</th>\n",
       "    </tr>\n",
       "    <tr>\n",
       "        <td>17556</td>\n",
       "    </tr>\n",
       "</table>"
      ],
      "text/plain": [
       "[(17556,)]"
      ]
     },
     "execution_count": 16,
     "metadata": {},
     "output_type": "execute_result"
    }
   ],
   "source": [
    "%%sql\n",
    "SELECT COUNT(*) FROM ex04;"
   ]
  },
  {
   "cell_type": "markdown",
   "metadata": {},
   "source": [
    "<><><\n",
    "\n",
    "Now let's see if we can extract the schema we just put into table ex04 ..."
   ]
  },
  {
   "cell_type": "code",
   "execution_count": 17,
   "metadata": {
    "collapsed": false
   },
   "outputs": [
    {
     "name": "stdout",
     "output_type": "stream",
     "text": [
      "27 rows affected.\n"
     ]
    },
    {
     "data": {
      "text/html": [
       "<table>\n",
       "    <tr>\n",
       "        <th>column_name</th>\n",
       "        <th>data_type</th>\n",
       "        <th>character_maximum_length</th>\n",
       "        <th>is_nullable</th>\n",
       "    </tr>\n",
       "    <tr>\n",
       "        <td>fac</td>\n",
       "        <td>character varying</td>\n",
       "        <td>77</td>\n",
       "        <td>YES</td>\n",
       "    </tr>\n",
       "    <tr>\n",
       "        <td>fac_key</td>\n",
       "        <td>character</td>\n",
       "        <td>6</td>\n",
       "        <td>YES</td>\n",
       "    </tr>\n",
       "    <tr>\n",
       "        <td>site_addr</td>\n",
       "        <td>character varying</td>\n",
       "        <td>35</td>\n",
       "        <td>YES</td>\n",
       "    </tr>\n",
       "    <tr>\n",
       "        <td>city</td>\n",
       "        <td>character</td>\n",
       "        <td>11</td>\n",
       "        <td>YES</td>\n",
       "    </tr>\n",
       "    <tr>\n",
       "        <td>state</td>\n",
       "        <td>character</td>\n",
       "        <td>2</td>\n",
       "        <td>YES</td>\n",
       "    </tr>\n",
       "    <tr>\n",
       "        <td>zipc</td>\n",
       "        <td>character</td>\n",
       "        <td>10</td>\n",
       "        <td>YES</td>\n",
       "    </tr>\n",
       "    <tr>\n",
       "        <td>owner_key</td>\n",
       "        <td>character</td>\n",
       "        <td>5</td>\n",
       "        <td>YES</td>\n",
       "    </tr>\n",
       "    <tr>\n",
       "        <td>owner</td>\n",
       "        <td>character varying</td>\n",
       "        <td>82</td>\n",
       "        <td>YES</td>\n",
       "    </tr>\n",
       "    <tr>\n",
       "        <td>bus</td>\n",
       "        <td>character varying</td>\n",
       "        <td>25</td>\n",
       "        <td>YES</td>\n",
       "    </tr>\n",
       "    <tr>\n",
       "        <td>st_num</td>\n",
       "        <td>character</td>\n",
       "        <td>7</td>\n",
       "        <td>YES</td>\n",
       "    </tr>\n",
       "    <tr>\n",
       "        <td>st</td>\n",
       "        <td>character varying</td>\n",
       "        <td>24</td>\n",
       "        <td>YES</td>\n",
       "    </tr>\n",
       "    <tr>\n",
       "        <td>st_typ</td>\n",
       "        <td>character</td>\n",
       "        <td>4</td>\n",
       "        <td>YES</td>\n",
       "    </tr>\n",
       "    <tr>\n",
       "        <td>post</td>\n",
       "        <td>character</td>\n",
       "        <td>2</td>\n",
       "        <td>YES</td>\n",
       "    </tr>\n",
       "    <tr>\n",
       "        <td>phone</td>\n",
       "        <td>character</td>\n",
       "        <td>15</td>\n",
       "        <td>YES</td>\n",
       "    </tr>\n",
       "    <tr>\n",
       "        <td>pgm_num</td>\n",
       "        <td>character</td>\n",
       "        <td>4</td>\n",
       "        <td>YES</td>\n",
       "    </tr>\n",
       "    <tr>\n",
       "        <td>pgm_desc</td>\n",
       "        <td>character varying</td>\n",
       "        <td>40</td>\n",
       "        <td>YES</td>\n",
       "    </tr>\n",
       "    <tr>\n",
       "        <td>insp_date</td>\n",
       "        <td>timestamp without time zone</td>\n",
       "        <td>None</td>\n",
       "        <td>YES</td>\n",
       "    </tr>\n",
       "    <tr>\n",
       "        <td>insp_type</td>\n",
       "        <td>character</td>\n",
       "        <td>1</td>\n",
       "        <td>YES</td>\n",
       "    </tr>\n",
       "    <tr>\n",
       "        <td>insp_desc</td>\n",
       "        <td>character varying</td>\n",
       "        <td>32</td>\n",
       "        <td>YES</td>\n",
       "    </tr>\n",
       "    <tr>\n",
       "        <td>serial</td>\n",
       "        <td>character</td>\n",
       "        <td>9</td>\n",
       "        <td>YES</td>\n",
       "    </tr>\n",
       "    <tr>\n",
       "        <td>action_code</td>\n",
       "        <td>character</td>\n",
       "        <td>2</td>\n",
       "        <td>YES</td>\n",
       "    </tr>\n",
       "    <tr>\n",
       "        <td>action_desc</td>\n",
       "        <td>character varying</td>\n",
       "        <td>34</td>\n",
       "        <td>YES</td>\n",
       "    </tr>\n",
       "    <tr>\n",
       "        <td>result_code</td>\n",
       "        <td>character</td>\n",
       "        <td>2</td>\n",
       "        <td>YES</td>\n",
       "    </tr>\n",
       "    <tr>\n",
       "        <td>result_desc</td>\n",
       "        <td>character varying</td>\n",
       "        <td>37</td>\n",
       "        <td>YES</td>\n",
       "    </tr>\n",
       "    <tr>\n",
       "        <td>violation_code</td>\n",
       "        <td>character varying</td>\n",
       "        <td>10</td>\n",
       "        <td>YES</td>\n",
       "    </tr>\n",
       "    <tr>\n",
       "        <td>violation_desc</td>\n",
       "        <td>character varying</td>\n",
       "        <td>50</td>\n",
       "        <td>YES</td>\n",
       "    </tr>\n",
       "    <tr>\n",
       "        <td>insp_memo</td>\n",
       "        <td>character</td>\n",
       "        <td>1</td>\n",
       "        <td>YES</td>\n",
       "    </tr>\n",
       "</table>"
      ],
      "text/plain": [
       "[('fac', 'character varying', 77, 'YES'),\n",
       " ('fac_key', 'character', 6, 'YES'),\n",
       " ('site_addr', 'character varying', 35, 'YES'),\n",
       " ('city', 'character', 11, 'YES'),\n",
       " ('state', 'character', 2, 'YES'),\n",
       " ('zipc', 'character', 10, 'YES'),\n",
       " ('owner_key', 'character', 5, 'YES'),\n",
       " ('owner', 'character varying', 82, 'YES'),\n",
       " ('bus', 'character varying', 25, 'YES'),\n",
       " ('st_num', 'character', 7, 'YES'),\n",
       " ('st', 'character varying', 24, 'YES'),\n",
       " ('st_typ', 'character', 4, 'YES'),\n",
       " ('post', 'character', 2, 'YES'),\n",
       " ('phone', 'character', 15, 'YES'),\n",
       " ('pgm_num', 'character', 4, 'YES'),\n",
       " ('pgm_desc', 'character varying', 40, 'YES'),\n",
       " ('insp_date', 'timestamp without time zone', None, 'YES'),\n",
       " ('insp_type', 'character', 1, 'YES'),\n",
       " ('insp_desc', 'character varying', 32, 'YES'),\n",
       " ('serial', 'character', 9, 'YES'),\n",
       " ('action_code', 'character', 2, 'YES'),\n",
       " ('action_desc', 'character varying', 34, 'YES'),\n",
       " ('result_code', 'character', 2, 'YES'),\n",
       " ('result_desc', 'character varying', 37, 'YES'),\n",
       " ('violation_code', 'character varying', 10, 'YES'),\n",
       " ('violation_desc', 'character varying', 50, 'YES'),\n",
       " ('insp_memo', 'character', 1, 'YES')]"
      ]
     },
     "execution_count": 17,
     "metadata": {},
     "output_type": "execute_result"
    }
   ],
   "source": [
    "%%sql\n",
    "SELECT column_name, data_type, character_maximum_length, is_nullable\n",
    "FROM INFORMATION_SCHEMA.COLUMNS WHERE table_name = 'ex04';"
   ]
  },
  {
   "cell_type": "markdown",
   "metadata": {},
   "source": [
    "<><><\n",
    "\n",
    "Now THAT is absolutely WILD!\n",
    "\n",
    "<><><\n",
    "\n",
    "<><><\n",
    "\n",
    "<><><\n"
   ]
  },
  {
   "cell_type": "markdown",
   "metadata": {},
   "source": [
    "## Problem 3 - explore your data (30 points)\n",
    "\n",
    "Now that the data is loaded, ask some questions of it!  Identify key variables of interest and note their ranges along with other useful descriptive statistics.  Choose and define a few lines of inquiry, execute queries for each, and describe what you find in your result sets.  Use any query techniques we've seen in class, including aggregate functions, transformations, subqueries, or others as appropriate. \n",
    "\n",
    "If you find interesting patterns, adding plots to your exploration would be useful.\n",
    "\n",
    "Insert a combination of code and text/markdown cells here to explore your data."
   ]
  },
  {
   "cell_type": "markdown",
   "metadata": {},
   "source": [
    "<><><\n",
    "\n",
    "I'm basically interested in one thing ...if any neighborhood has a substantially higher rate of bad citations per inspection. I'll use the number of records in the database as a measure of inspections. This is not entirely accurate, but I'm just taking a quick & dirty first look. I'll use zip code to proxy for neighborhood and start by displaying counts of all records in each zip code. I'll then manually compute a new neighborhood indicator from contiguous zip codes containing 1,000-2000 records each. \n"
   ]
  },
  {
   "cell_type": "code",
   "execution_count": 18,
   "metadata": {
    "collapsed": false
   },
   "outputs": [
    {
     "name": "stdout",
     "output_type": "stream",
     "text": [
      "48 rows affected.\n"
     ]
    },
    {
     "data": {
      "text/html": [
       "<table>\n",
       "    <tr>\n",
       "        <th>zipc</th>\n",
       "        <th>count</th>\n",
       "    </tr>\n",
       "    <tr>\n",
       "        <td>87017     </td>\n",
       "        <td>3</td>\n",
       "    </tr>\n",
       "    <tr>\n",
       "        <td>87100     </td>\n",
       "        <td>3</td>\n",
       "    </tr>\n",
       "    <tr>\n",
       "        <td>87101     </td>\n",
       "        <td>15</td>\n",
       "    </tr>\n",
       "    <tr>\n",
       "        <td>87102     </td>\n",
       "        <td>1601</td>\n",
       "    </tr>\n",
       "    <tr>\n",
       "        <td>871023114 </td>\n",
       "        <td>9</td>\n",
       "    </tr>\n",
       "    <tr>\n",
       "        <td>87103     </td>\n",
       "        <td>35</td>\n",
       "    </tr>\n",
       "    <tr>\n",
       "        <td>87104     </td>\n",
       "        <td>527</td>\n",
       "    </tr>\n",
       "    <tr>\n",
       "        <td>87105     </td>\n",
       "        <td>533</td>\n",
       "    </tr>\n",
       "    <tr>\n",
       "        <td>87106     </td>\n",
       "        <td>1568</td>\n",
       "    </tr>\n",
       "    <tr>\n",
       "        <td>87107     </td>\n",
       "        <td>1186</td>\n",
       "    </tr>\n",
       "    <tr>\n",
       "        <td>87108     </td>\n",
       "        <td>1976</td>\n",
       "    </tr>\n",
       "    <tr>\n",
       "        <td>871084174 </td>\n",
       "        <td>3</td>\n",
       "    </tr>\n",
       "    <tr>\n",
       "        <td>871084815 </td>\n",
       "        <td>3</td>\n",
       "    </tr>\n",
       "    <tr>\n",
       "        <td>871085004 </td>\n",
       "        <td>4</td>\n",
       "    </tr>\n",
       "    <tr>\n",
       "        <td>871087121 </td>\n",
       "        <td>6</td>\n",
       "    </tr>\n",
       "    <tr>\n",
       "        <td>87109     </td>\n",
       "        <td>1552</td>\n",
       "    </tr>\n",
       "    <tr>\n",
       "        <td>871094620 </td>\n",
       "        <td>3</td>\n",
       "    </tr>\n",
       "    <tr>\n",
       "        <td>87110     </td>\n",
       "        <td>1996</td>\n",
       "    </tr>\n",
       "    <tr>\n",
       "        <td>871101922 </td>\n",
       "        <td>6</td>\n",
       "    </tr>\n",
       "    <tr>\n",
       "        <td>871104546 </td>\n",
       "        <td>5</td>\n",
       "    </tr>\n",
       "    <tr>\n",
       "        <td>871104973 </td>\n",
       "        <td>6</td>\n",
       "    </tr>\n",
       "    <tr>\n",
       "        <td>87111     </td>\n",
       "        <td>1008</td>\n",
       "    </tr>\n",
       "    <tr>\n",
       "        <td>87111-3146</td>\n",
       "        <td>6</td>\n",
       "    </tr>\n",
       "    <tr>\n",
       "        <td>871112648 </td>\n",
       "        <td>3</td>\n",
       "    </tr>\n",
       "    <tr>\n",
       "        <td>871113971 </td>\n",
       "        <td>7</td>\n",
       "    </tr>\n",
       "    <tr>\n",
       "        <td>871118200 </td>\n",
       "        <td>3</td>\n",
       "    </tr>\n",
       "    <tr>\n",
       "        <td>87112     </td>\n",
       "        <td>1151</td>\n",
       "    </tr>\n",
       "    <tr>\n",
       "        <td>871124722 </td>\n",
       "        <td>3</td>\n",
       "    </tr>\n",
       "    <tr>\n",
       "        <td>87113     </td>\n",
       "        <td>326</td>\n",
       "    </tr>\n",
       "    <tr>\n",
       "        <td>871131512 </td>\n",
       "        <td>13</td>\n",
       "    </tr>\n",
       "    <tr>\n",
       "        <td>87114     </td>\n",
       "        <td>1053</td>\n",
       "    </tr>\n",
       "    <tr>\n",
       "        <td>871145010 </td>\n",
       "        <td>22</td>\n",
       "    </tr>\n",
       "    <tr>\n",
       "        <td>871147005 </td>\n",
       "        <td>4</td>\n",
       "    </tr>\n",
       "    <tr>\n",
       "        <td>871147010 </td>\n",
       "        <td>4</td>\n",
       "    </tr>\n",
       "    <tr>\n",
       "        <td>87116     </td>\n",
       "        <td>7</td>\n",
       "    </tr>\n",
       "    <tr>\n",
       "        <td>87117     </td>\n",
       "        <td>10</td>\n",
       "    </tr>\n",
       "    <tr>\n",
       "        <td>87119     </td>\n",
       "        <td>34</td>\n",
       "    </tr>\n",
       "    <tr>\n",
       "        <td>87120     </td>\n",
       "        <td>789</td>\n",
       "    </tr>\n",
       "    <tr>\n",
       "        <td>87121     </td>\n",
       "        <td>879</td>\n",
       "    </tr>\n",
       "    <tr>\n",
       "        <td>87122     </td>\n",
       "        <td>112</td>\n",
       "    </tr>\n",
       "    <tr>\n",
       "        <td>871221303 </td>\n",
       "        <td>20</td>\n",
       "    </tr>\n",
       "    <tr>\n",
       "        <td>871222949 </td>\n",
       "        <td>7</td>\n",
       "    </tr>\n",
       "    <tr>\n",
       "        <td>87123     </td>\n",
       "        <td>1017</td>\n",
       "    </tr>\n",
       "    <tr>\n",
       "        <td>87124     </td>\n",
       "        <td>20</td>\n",
       "    </tr>\n",
       "    <tr>\n",
       "        <td>87158     </td>\n",
       "        <td>6</td>\n",
       "    </tr>\n",
       "    <tr>\n",
       "        <td>87187     </td>\n",
       "        <td>5</td>\n",
       "    </tr>\n",
       "    <tr>\n",
       "        <td>87192     </td>\n",
       "        <td>5</td>\n",
       "    </tr>\n",
       "    <tr>\n",
       "        <td>87197     </td>\n",
       "        <td>2</td>\n",
       "    </tr>\n",
       "</table>"
      ],
      "text/plain": [
       "[('87017     ', 3),\n",
       " ('87100     ', 3),\n",
       " ('87101     ', 15),\n",
       " ('87102     ', 1601),\n",
       " ('871023114 ', 9),\n",
       " ('87103     ', 35),\n",
       " ('87104     ', 527),\n",
       " ('87105     ', 533),\n",
       " ('87106     ', 1568),\n",
       " ('87107     ', 1186),\n",
       " ('87108     ', 1976),\n",
       " ('871084174 ', 3),\n",
       " ('871084815 ', 3),\n",
       " ('871085004 ', 4),\n",
       " ('871087121 ', 6),\n",
       " ('87109     ', 1552),\n",
       " ('871094620 ', 3),\n",
       " ('87110     ', 1996),\n",
       " ('871101922 ', 6),\n",
       " ('871104546 ', 5),\n",
       " ('871104973 ', 6),\n",
       " ('87111     ', 1008),\n",
       " ('87111-3146', 6),\n",
       " ('871112648 ', 3),\n",
       " ('871113971 ', 7),\n",
       " ('871118200 ', 3),\n",
       " ('87112     ', 1151),\n",
       " ('871124722 ', 3),\n",
       " ('87113     ', 326),\n",
       " ('871131512 ', 13),\n",
       " ('87114     ', 1053),\n",
       " ('871145010 ', 22),\n",
       " ('871147005 ', 4),\n",
       " ('871147010 ', 4),\n",
       " ('87116     ', 7),\n",
       " ('87117     ', 10),\n",
       " ('87119     ', 34),\n",
       " ('87120     ', 789),\n",
       " ('87121     ', 879),\n",
       " ('87122     ', 112),\n",
       " ('871221303 ', 20),\n",
       " ('871222949 ', 7),\n",
       " ('87123     ', 1017),\n",
       " ('87124     ', 20),\n",
       " ('87158     ', 6),\n",
       " ('87187     ', 5),\n",
       " ('87192     ', 5),\n",
       " ('87197     ', 2)]"
      ]
     },
     "execution_count": 18,
     "metadata": {},
     "output_type": "execute_result"
    }
   ],
   "source": [
    "%%sql\n",
    "SELECT zipc, COUNT (*) FROM ex04\n",
    "GROUP BY zipc\n",
    "ORDER by zipc\n",
    "LIMIT 100;"
   ]
  },
  {
   "cell_type": "markdown",
   "metadata": {},
   "source": [
    "Create a new variable for neighborhood (hood)"
   ]
  },
  {
   "cell_type": "code",
   "execution_count": 19,
   "metadata": {
    "collapsed": false
   },
   "outputs": [
    {
     "name": "stdout",
     "output_type": "stream",
     "text": [
      "Done.\n"
     ]
    },
    {
     "data": {
      "text/plain": [
       "[]"
      ]
     },
     "execution_count": 19,
     "metadata": {},
     "output_type": "execute_result"
    }
   ],
   "source": [
    "%%sql\n",
    "ALTER TABLE ex04\n",
    "ADD COLUMN hood INTEGER;"
   ]
  },
  {
   "cell_type": "markdown",
   "metadata": {},
   "source": [
    "Recode zipc into the 12 natural contiguous groups of zip codes of 1000-2000 records..."
   ]
  },
  {
   "cell_type": "code",
   "execution_count": 20,
   "metadata": {
    "collapsed": false
   },
   "outputs": [
    {
     "name": "stdout",
     "output_type": "stream",
     "text": [
      "(psycopg2.ProgrammingError) operator does not exist: character < integer\n",
      "LINE 3: WHERE zipc < 87103;\n",
      "                   ^\n",
      "HINT:  No operator matches the given name and argument type(s). You might need to add explicit type casts.\n",
      " [SQL: 'UPDATE ex04\\nSET hood = 1\\nWHERE zipc < 87103;']\n"
     ]
    }
   ],
   "source": [
    "%%sql\n",
    "UPDATE ex04\n",
    "SET hood = 1\n",
    "WHERE zipc < 87103;"
   ]
  },
  {
   "cell_type": "markdown",
   "metadata": {},
   "source": [
    "Well, that was my plan anyway. It appears that SQL doesn't have a straightforward recode function -- not one that I could find anyway. So I'm attempting to use brute force and not having any luck either. Even though SQL sorts zip codes that are strings it does not compute on them. I'm hitting my head against a concrete wall trying to do a really simple thing: a recode or a conditional assignment (If x then y). If I can't get observations into comparable groups then any computed rate of bad citations will not be stable enough across groups for comparison. \n",
    "\n",
    "So, I'm stuck. I'm sure there are several really easy fixes. But I can't find even one. There isn't even a reference to recoding a variable in `Learning SQL by Alan Beaulieu` and only scant reference to conditional logic. So it's essentally as if I've gone down a rabbit hole. I probably need to go back and change the variable type of zipc to integer. But to retain my sanity right now I'm going to abandon. \n",
    "\n",
    "I'm going to treat this frustration as though it's an essential part of the learning process. Strangely, that may actually be true."
   ]
  },
  {
   "cell_type": "markdown",
   "metadata": {},
   "source": [
    "## Bonus (10 points)\n",
    "\n",
    "We have seen a few simple techniques for normalizing data in class.  Choose a column or set of columns that might be redundant and normalize them out to another table:\n",
    "\n",
    "* Identify the columns to normalize in the source data table\n",
    "* Create one or more new tables to hold the normalized records\n",
    "* Extract data into the new tables\n",
    "* Re-insert the new foreign key references from the new table into the source table"
   ]
  }
 ],
 "metadata": {
  "anaconda-cloud": {},
  "kernelspec": {
   "display_name": "Python 3",
   "language": "python",
   "name": "python3"
  },
  "language_info": {
   "codemirror_mode": {
    "name": "ipython",
    "version": 3
   },
   "file_extension": ".py",
   "mimetype": "text/x-python",
   "name": "python",
   "nbconvert_exporter": "python",
   "pygments_lexer": "ipython3",
   "version": "3.5.2"
  }
 },
 "nbformat": 4,
 "nbformat_minor": 1
}
